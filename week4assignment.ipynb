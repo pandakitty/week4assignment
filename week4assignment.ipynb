{
 "cells": [
  {
   "cell_type": "code",
   "execution_count": 17,
   "id": "93dd93ad",
   "metadata": {},
   "outputs": [
    {
     "name": "stdout",
     "output_type": "stream",
     "text": [
      "43\n",
      "0\n",
      "43\n",
      "0\n",
      "In equation (a) the one-sided limits agree and so the limit exists and equals 3, which is equal to f(3). The function is continuous at x = 3.\n",
      "None\n",
      "In equation (b) the one-sided limits agree and so the limit exists and equals 0, which is equal to g(0). The function is continuous at x = 0.\n",
      "Continuity is always presented as a 3-part test, it is no longer satisfied when the left and right sides of the equation are both undefined or nonexistent.\n"
     ]
    }
   ],
   "source": [
    "# Calculating Limits Numerically. \n",
    "## (a) Use Python code to evaluate the function f at appropriate values to calculate lim f(x)x!3.\n",
    "### Let f(x) = 2x^3 - 4x + 1 and let g(x) = e^x - 1 / x\n",
    "\n",
    "# import(s)\n",
    "import sympy as smp\n",
    "from sympy import * \n",
    "\n",
    "# symbol(s)\n",
    "f = symbols('f')\n",
    "x = symbols('x')\n",
    "expr1 = 2*x**3-4*x+1\n",
    "print(limit(expr1,x, 3))\n",
    "expr1 = 2*x**3-4*x+1\n",
    "\n",
    "## (b) Use Python code to evaluate the function g at appropriate values to calculate limx!0g(x).\n",
    "\n",
    "# symbol(s)\n",
    "e= symbols('c')\n",
    "g = exp(e**x-1/x)\n",
    "print(limit(g,x,0))\n",
    "\n",
    "## (c) Could the limits in parts (a) and (b) be calculated by plugging in the value where the limit is taken into the function? Explain. What does this mean in terms of continuity?\n",
    "fx = 2*3**3-4*3+1\n",
    "print (fx)\n",
    "g = e**0-1 \n",
    "print(g)\n",
    "\n",
    "print( print(\"In equation (a) the one-sided limits agree and so the limit exists and equals 3, which is equal to f(3). The function is continuous at x = 3.\"))\n",
    "print(\"In equation (b) the one-sided limits agree and so the limit exists and equals 0, which is equal to g(0). The function is continuous at x = 0.\")\n",
    "print(\"Continuity is always presented as a 3-part test, it is no longer satisfied when the left and right sides of the equation are both undefined or nonexistent.\")"
   ]
  },
  {
   "cell_type": "code",
   "execution_count": 18,
   "id": "df7a55de",
   "metadata": {
    "scrolled": true
   },
   "outputs": [
    {
     "name": "stdout",
     "output_type": "stream",
     "text": [
      "The average rate of change of the function between a and b\n",
      "15.0\n"
     ]
    }
   ],
   "source": [
    "# Average Rate of Change\n",
    "## Create a Python function that takes in a mathematical function, e.g., f(x) = 3x2 and two numbers a and b and returns the average rate of change of the function between a and b.\n",
    "### fx = 3* x**2, (1,4)\n",
    "f1=4\n",
    "f2=1\n",
    "R = (3*f1**2 - 3*f2**2) / (4-1)\n",
    "\n",
    "print(\"The average rate of change of the function between a and b\")\n",
    "print(R)"
   ]
  },
  {
   "cell_type": "code",
   "execution_count": 3,
   "id": "dbe8611b",
   "metadata": {
    "scrolled": true
   },
   "outputs": [
    {
     "name": "stdout",
     "output_type": "stream",
     "text": [
      "-53.89999999999999\n",
      "The velocity of the ball between 5 and 6 seconds is -53.89999999999999 meters.\n",
      "-173.95000000000005\n",
      "The velocity of the ball between 5 and 5.5 seconds is -173.95000000000005 meters.\n",
      "-1151.9900000000046\n",
      "The velocity of the ball between 5 and 5.5 seconds is -1151.9900000000046 meters.\n",
      "24.500000000000004\n",
      "The instantaneous speed of the baseball at 5 seconds is 24.500000000000004 m/s.\n",
      "19.6\n",
      "The derivative of f is 19.6\n",
      "122.50000000000001\n",
      "The derivative of f at t = 5 is 122.50000000000001. The value is significanlty greater than that of the value found in part (d). In part (d), I removed the constant (4.9*d/dt*t^2) and applied the power rule (4.9*2t^2-1), simplifed (9.8t) and removed the symbol't'(19.6). And in part (f), I applied the value of t. f = 4.9 * 5^2, multiplied the numbers 4.9*25, resulting in f = 122.5\n"
     ]
    }
   ],
   "source": [
    "# Average rate of change to instantaneous rate of change\n",
    "\n",
    "## (a) find the average speed (average rate of change of distance) of the baseball between 5 and 6 seconds. \n",
    "### f(t) = 4.9*t**2 (distance)\n",
    "\n",
    "x = 5\n",
    "x0 = 6\n",
    "R = (4.9*(x**2)) - (4.9*(x0**2)) / (x0-x)\n",
    "print(R)\n",
    "\n",
    "print(\"The velocity of the ball between 5 and 6 seconds is -53.89999999999999 meters.\")\n",
    "\n",
    "## (b) Find the average speed (average rate of change of distance) of the baseball between 5 and 5.5 seconds.\n",
    "### f(t) = 4.9*t**2 (distance)\n",
    "\n",
    "x = 5\n",
    "x0 = 5.5\n",
    "R = (4.9*(x**2)) - (4.9*(x0**2)) / (x0-x)\n",
    "print(R)\n",
    "\n",
    "print(\"The velocity of the ball between 5 and 5.5 seconds is -173.95000000000005 meters.\")\n",
    "\n",
    "## (c) Find the average speed (average rate of change of distance) of the baseball between 5 and 5.1 seconds.\n",
    "### f(t) = 4.9*t**2 (distance)\n",
    "x = 5\n",
    "x0 = 5.1\n",
    "R = (4.9*(x**2)) - (4.9*(x0**2)) / (x0-x)\n",
    "print(R)\n",
    "\n",
    "print(\"The velocity of the ball between 5 and 5.5 seconds is -1151.9900000000046 meters.\")\n",
    "\n",
    "## (d) What is the instantaneous speed of the baseball at t = 5 seconds?\n",
    "### f(t) = 4.9*t**2 \n",
    "x = 5\n",
    "R = (4.9*(x**2))/5 # distance/time\n",
    "print(R)\n",
    "print(\"The instantaneous speed of the baseball at 5 seconds is 24.500000000000004 m/s.\")\n",
    "\n",
    "##(e) Find the derivative of f.\n",
    "### f(t) = 4.9*t**2 \n",
    "t = symbols('t')\n",
    "f = 4.9*t**2\n",
    "f1 = lambdify(t, f)\n",
    "print (f1(2))\n",
    "print(\"The derivative of f is 19.6\")\n",
    "\n",
    "##(f) Evaluate the derivative of f at t = 5. How does this value compare to the value found in part (d)? Explain what is happening.\n",
    "### f(t) = 4.9*t**2 (t=5)\n",
    "t = 5\n",
    "f = 4.9*t**2\n",
    "print(f)\n",
    "print(\"The derivative of f at t = 5 is 122.50000000000001. The value is significanlty greater than that of the value found in part (d). In part (d), I removed the constant (4.9*d/dt*t^2) and applied the power rule (4.9*2t^2-1), simplifed (9.8t) and removed the symbol't'(19.6). And in part (f), I applied the value of t. f = 4.9 * 5^2, multiplied the numbers 4.9*25, resulting in f = 122.5\")"
   ]
  },
  {
   "cell_type": "code",
   "execution_count": 51,
   "id": "2ede381d",
   "metadata": {},
   "outputs": [
    {
     "name": "stdout",
     "output_type": "stream",
     "text": [
      "-69200\n",
      "The model's predicted selling price of a 5 year-old car with a condition rating of 8 is -69200 US dollars.\n",
      "-1800\n",
      "1\n",
      "-1800\n",
      "zoo\n"
     ]
    }
   ],
   "source": [
    "#Calculating and Interpreting Partial Derivatives\n",
    "\n",
    "## (a) What is this model's predicted selling price of a 5-year old car with a condition rating 8?\n",
    "### P = 16000 + 2400C - 1800Y\n",
    "Y = 5\n",
    "C = 8 \n",
    "P = 1600 + 2400*C - 18000*Y\n",
    "print (P)\n",
    "print (\"The model's predicted selling price of a 5 year-old car with a condition rating of 8 is -69200 US dollars.\")\n",
    "\n",
    "## (b) Find @P/@C and interpret this value.\n",
    "from sympy import diff, symbols\n",
    "P = 16000 + 2400*C - 1800*Y\n",
    "C, Y = symbols('C Y')\n",
    "derivative_PC = diff(P,C)\n",
    "print(derivative_P)\n",
    "\n",
    "print (derivative_P/derivative_C)\n",
    "\n",
    "## (c) Find @P/@Y and interpret this value.\n",
    "### P = 16000 + 2400C - 1800Y\n",
    "\n",
    "P = 16000 + 2400*C - 1800*Y\n",
    "C, Y = symbols('C Y')\n",
    "derivative_PY = diff(P,Y)\n",
    "print(derivative_PY)\n",
    "\n",
    "print (derivative_P/derivative_Y)"
   ]
  },
  {
   "cell_type": "code",
   "execution_count": null,
   "id": "5ea70dfb",
   "metadata": {},
   "outputs": [],
   "source": []
  },
  {
   "cell_type": "code",
   "execution_count": null,
   "id": "82d44cd2",
   "metadata": {},
   "outputs": [],
   "source": []
  }
 ],
 "metadata": {
  "kernelspec": {
   "display_name": "Python 3 (ipykernel)",
   "language": "python",
   "name": "python3"
  },
  "language_info": {
   "codemirror_mode": {
    "name": "ipython",
    "version": 3
   },
   "file_extension": ".py",
   "mimetype": "text/x-python",
   "name": "python",
   "nbconvert_exporter": "python",
   "pygments_lexer": "ipython3",
   "version": "3.11.0"
  }
 },
 "nbformat": 4,
 "nbformat_minor": 5
}
